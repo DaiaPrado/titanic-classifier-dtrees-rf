{
 "cells": [
  {
   "cell_type": "markdown",
   "id": "f996c132",
   "metadata": {},
   "source": [
    "# Probability of survival of Titanic's passengers using Decision Trees and Random Forests\n",
    "\n",
    "Used Techniques: Supervised learning, Decision Trees and Random Forests. \n",
    "\n",
    "In this exercise, we are going to use a kaggle dataset coming from this URL: https://www.kaggle.com/code/faressayah/decision-trees-random-forest-for-beginners/input"
   ]
  },
  {
   "cell_type": "code",
   "execution_count": 2,
   "id": "986f9752",
   "metadata": {},
   "outputs": [],
   "source": [
    "import pandas as pd\n",
    "import numpy as np"
   ]
  },
  {
   "cell_type": "code",
   "execution_count": 5,
   "id": "dc3d3422",
   "metadata": {},
   "outputs": [],
   "source": [
    "#Since we downloaded the data into a csv, let's convert it into a pandas dataframe.\n",
    "train_df = pd.read_csv('train.csv')\n",
    "test_df = pd.read_csv('test.csv')"
   ]
  },
  {
   "cell_type": "code",
   "execution_count": 15,
   "id": "d43be841",
   "metadata": {},
   "outputs": [
    {
     "name": "stdout",
     "output_type": "stream",
     "text": [
      "(891, 12)\n",
      "(418, 11)\n",
      "\n",
      " Train dataset information\n",
      "<class 'pandas.core.frame.DataFrame'>\n",
      "RangeIndex: 891 entries, 0 to 890\n",
      "Data columns (total 12 columns):\n",
      " #   Column       Non-Null Count  Dtype  \n",
      "---  ------       --------------  -----  \n",
      " 0   PassengerId  891 non-null    int64  \n",
      " 1   Survived     891 non-null    int64  \n",
      " 2   Pclass       891 non-null    int64  \n",
      " 3   Name         891 non-null    object \n",
      " 4   Sex          891 non-null    object \n",
      " 5   Age          714 non-null    float64\n",
      " 6   SibSp        891 non-null    int64  \n",
      " 7   Parch        891 non-null    int64  \n",
      " 8   Ticket       891 non-null    object \n",
      " 9   Fare         891 non-null    float64\n",
      " 10  Cabin        204 non-null    object \n",
      " 11  Embarked     889 non-null    object \n",
      "dtypes: float64(2), int64(5), object(5)\n",
      "memory usage: 83.7+ KB\n",
      "None\n",
      "\n",
      " Test dataset information\n",
      "<class 'pandas.core.frame.DataFrame'>\n",
      "RangeIndex: 418 entries, 0 to 417\n",
      "Data columns (total 11 columns):\n",
      " #   Column       Non-Null Count  Dtype  \n",
      "---  ------       --------------  -----  \n",
      " 0   PassengerId  418 non-null    int64  \n",
      " 1   Pclass       418 non-null    int64  \n",
      " 2   Name         418 non-null    object \n",
      " 3   Sex          418 non-null    object \n",
      " 4   Age          332 non-null    float64\n",
      " 5   SibSp        418 non-null    int64  \n",
      " 6   Parch        418 non-null    int64  \n",
      " 7   Ticket       418 non-null    object \n",
      " 8   Fare         417 non-null    float64\n",
      " 9   Cabin        91 non-null     object \n",
      " 10  Embarked     418 non-null    object \n",
      "dtypes: float64(2), int64(4), object(5)\n",
      "memory usage: 36.0+ KB\n",
      "None\n"
     ]
    }
   ],
   "source": [
    "#Now that our data is legible our first step is knowing both of our dataframes. \n",
    "#Magnitude of or dataframe\n",
    "print(train_df.shape)\n",
    "print(test_df.shape)\n",
    "\n",
    "#Information per column\n",
    "print(\"\\n Train dataset information\")\n",
    "print(train_df.info())\n",
    "print(\"\\n Test dataset information\")\n",
    "print(test_df.info())"
   ]
  },
  {
   "cell_type": "markdown",
   "id": "4a92a6bf",
   "metadata": {},
   "source": [
    "By seeing both lists, there are several points to address: \n",
    "1. The training and testing sets the columns \"Age\" and \"Cabin\" have some null data. It's important to fix it in order to avoid any model underfitting. \n",
    "2. The columns \"Name\", \"Sex\", \"Tickets\", \"Cabin\" and \"Embarked\" are an object.This must be corrected as the models do not accept object type data.\n",
    "3. The column \"Age\" is a float type data. Which by default this doesn't make any sense. \n",
    "\n",
    "Now that we know more about our data, let's dive more into the samples to correct each case."
   ]
  },
  {
   "cell_type": "code",
   "execution_count": null,
   "id": "96f08bd8",
   "metadata": {},
   "outputs": [],
   "source": []
  },
  {
   "cell_type": "code",
   "execution_count": null,
   "id": "3b3e960b",
   "metadata": {},
   "outputs": [],
   "source": [
    "#Statistical description quick view\n",
    "print(train_df.describe())"
   ]
  }
 ],
 "metadata": {
  "kernelspec": {
   "display_name": "Python 3 (ipykernel)",
   "language": "python",
   "name": "python3"
  },
  "language_info": {
   "codemirror_mode": {
    "name": "ipython",
    "version": 3
   },
   "file_extension": ".py",
   "mimetype": "text/x-python",
   "name": "python",
   "nbconvert_exporter": "python",
   "pygments_lexer": "ipython3",
   "version": "3.9.16"
  }
 },
 "nbformat": 4,
 "nbformat_minor": 5
}
